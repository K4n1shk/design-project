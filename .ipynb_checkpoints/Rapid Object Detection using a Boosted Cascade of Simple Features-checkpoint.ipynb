{
 "cells": [
  {
   "cell_type": "code",
   "execution_count": 1,
   "id": "f561c1c2-1ebb-4378-ab2e-2e0a9a9e3ee9",
   "metadata": {},
   "outputs": [
    {
     "name": "stdout",
     "output_type": "stream",
     "text": [
      "4.6.0\n"
     ]
    }
   ],
   "source": [
    "# check opencv version\n",
    "import cv2\n",
    "# print version number\n",
    "print(cv2.__version__)"
   ]
  },
  {
   "cell_type": "code",
   "execution_count": 2,
   "id": "a6c7befb-e0ca-4e92-a822-8375345bd788",
   "metadata": {},
   "outputs": [
    {
     "name": "stdout",
     "output_type": "stream",
     "text": [
      "[111 207 205 205]\n"
     ]
    }
   ],
   "source": [
    "\n",
    "# plot photo with detected faces using opencv cascade classifier\n",
    "from cv2 import imread\n",
    "from cv2 import imshow\n",
    "from cv2 import waitKey\n",
    "from cv2 import destroyAllWindows\n",
    "from cv2 import CascadeClassifier\n",
    "from cv2 import rectangle\n",
    "# load the photograph\n",
    "pixels = imread('img4.jpg')\n",
    "# load the pre-trained model\n",
    "classifier = CascadeClassifier('haarcascade_frontalface_default.xml')\n",
    "# perform face detection\n",
    "bboxes = classifier.detectMultiScale(pixels)\n",
    "# print bounding box for each detected face\n",
    "for box in bboxes:\n",
    "\tprint(box)"
   ]
  },
  {
   "cell_type": "code",
   "execution_count": 4,
   "id": "59f0e02b-1763-4b25-94e2-a10e66e3f349",
   "metadata": {},
   "outputs": [],
   "source": [
    "for box in bboxes:\n",
    "\t# extract\n",
    "\tx, y, width, height = box\n",
    "\tx2, y2 = x + width, y + height\n",
    "\t# draw a rectangle over the pixels\n",
    "\trectangle(pixels, (x, y), (x2, y2), (0,0,255), 1)\n",
    "# show the image\n",
    "imshow('face detection', pixels)\n",
    "# keep the window open until we press a key\n",
    "waitKey(0)\n",
    "# close the window\n",
    "destroyAllWindows()"
   ]
  },
  {
   "cell_type": "code",
   "execution_count": 5,
   "id": "61bb2a94-af87-4be3-9ef8-66aed7b365db",
   "metadata": {},
   "outputs": [
    {
     "name": "stdout",
     "output_type": "stream",
     "text": [
      "[292 107  25  25]\n",
      "[223 177  48  48]\n"
     ]
    }
   ],
   "source": [
    "# load the photograph\n",
    "pixels = imread('img3.jpg')\n",
    "# load the pre-trained model\n",
    "classifier = CascadeClassifier('haarcascade_frontalface_default.xml')\n",
    "# perform face detection\n",
    "bboxes = classifier.detectMultiScale(pixels,1.2,3)\n",
    "# print bounding box for each detected face\n",
    "for box in bboxes:\n",
    "\tprint(box)"
   ]
  },
  {
   "cell_type": "code",
   "execution_count": 6,
   "id": "dfe48315-d069-44f5-a695-81a0b352256a",
   "metadata": {},
   "outputs": [],
   "source": [
    "for box in bboxes:\n",
    "\t# extract\n",
    "\tx, y, width, height = box\n",
    "\tx2, y2 = x + width, y + height\n",
    "\t# draw a rectangle over the pixels\n",
    "\trectangle(pixels, (x, y), (x2, y2), (0,0,255), 1)\n",
    "# show the image\n",
    "imshow('face detection', pixels)\n",
    "# keep the window open until we press a key\n",
    "waitKey(0)\n",
    "# close the window\n",
    "destroyAllWindows()"
   ]
  }
 ],
 "metadata": {
  "kernelspec": {
   "display_name": "Python 3 (ipykernel)",
   "language": "python",
   "name": "python3"
  },
  "language_info": {
   "codemirror_mode": {
    "name": "ipython",
    "version": 3
   },
   "file_extension": ".py",
   "mimetype": "text/x-python",
   "name": "python",
   "nbconvert_exporter": "python",
   "pygments_lexer": "ipython3",
   "version": "3.9.7"
  }
 },
 "nbformat": 4,
 "nbformat_minor": 5
}
